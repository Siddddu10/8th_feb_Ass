{
 "cells": [
  {
   "cell_type": "code",
   "execution_count": 1,
   "id": "79521982-58e7-4ae8-86b3-3cdce48c3a8c",
   "metadata": {},
   "outputs": [
    {
     "ename": "SyntaxError",
     "evalue": "incomplete input (816771823.py, line 1)",
     "output_type": "error",
     "traceback": [
      "\u001b[0;36m  Cell \u001b[0;32mIn[1], line 1\u001b[0;36m\u001b[0m\n\u001b[0;31m    '''Consider the below code to answer further questions:\u001b[0m\n\u001b[0m    ^\u001b[0m\n\u001b[0;31mSyntaxError\u001b[0m\u001b[0;31m:\u001b[0m incomplete input\n"
     ]
    }
   ],
   "source": [
    "'''Consider the below code to answer further questions:\n",
    "import numpy as np\n",
    "list_ = [ ‘1’ , ’2’ , ‘3’ , ‘4’ , ‘5’ ]\n",
    "array_list = np.array(object = list_)\n",
    "\n",
    "Q1. Is there any difference in the data type of variables list_ and array_list? If there is\n",
    "then write a code to print the data types of both the variables.\n",
    "\n",
    "Ans-'''\n",
    "#Code\n",
    "import numpy as np\n",
    "list_ = ['1' , '2' , '3' , '4' , '5' ]\n",
    "array_list = np.array(object = list_)\n",
    "print(type(list_))\n",
    "print(type(array_list))\n",
    "\n",
    "'''Q2. Write a code to print the data type of each and every element of both the variables list_\n",
    "and arra_list.\n",
    "\n",
    "Ans-'''\n",
    "#Code\n",
    "import numpy as np\n",
    "\n",
    "list_ = ['1', '2', '3', '4', '5']\n",
    "array_list = np.array(object=list_)\n",
    "for element in list_:\n",
    "    print(type(element))\n",
    "for element in array_list:\n",
    "    print(type(element))\n",
    "    \n",
    "'''Q3. Considering the following changes in the variable, array_list:\n",
    "array_list = np.array(object = list_, dtype = int)\n",
    "Will there be any difference in the data type of the elements present in both the variables, \n",
    "list_ and arra_list? If so then print the data types of each and every element present in both\n",
    "the variables, list_and arra_list.\n",
    "\n",
    "Ans-'''\n",
    "#Code\n",
    "import numpy as np\n",
    "list_ = ['1', '2', '3', '4', '5']\n",
    "array_list = np.array(object = list_, dtype = int)\n",
    "for element in list_:\n",
    "    print(type(element))\n",
    "for element in array_list:\n",
    "    print(type(element))\n",
    "\n",
    "'''Consider the below code to answer further questions:\n",
    "import numpy as np\n",
    "num_list = [ [ 1 , 2 , 3 ] , [ 4 , 5 , 6 ] ]\n",
    "num_array = np.array(object = num_list)\n",
    "\n",
    "Q4. Write a code to find the following characteristics of variable, num_array:\n",
    "(i) shape\n",
    "(ii) size\n",
    "\n",
    "Ans-'''\n",
    "#Code\n",
    "import numpy as np\n",
    "num_list = [ [ 1 , 2 , 3 ] , [ 4 , 5 , 6 ] ]\n",
    "num_array = np.array(object = num_list)\n",
    "Size=num_array.size\n",
    "Shape=num_array.shape\n",
    "print(Size)\n",
    "print(Shape)\n",
    "\n",
    "\n",
    "'''Q5. Write a code to create numpy array of 3*3 matrix containing zeros only, using a numpy \n",
    "array creation function.\n",
    "[Hint: The size of the array will be 9 and the shape will be (3,3).]\n",
    "Ans-'''\n",
    "#Code\n",
    "import numpy as np\n",
    "np.zeros((3,3))\n",
    "'''\n",
    "Q6. Create an identity matrix of shape (5,5) using numpy functions?\n",
    "[Hint: An identity matrix is a matrix containing 1 diagonally and other elements will be 0.]\n",
    "\n",
    "Ans-'''\n",
    "#Code\n",
    "import numpy as np\n",
    "np.eye(5)\n"
   ]
  },
  {
   "cell_type": "code",
   "execution_count": 33,
   "id": "9882c18b-eea2-4987-ab3a-9e8fd211057e",
   "metadata": {},
   "outputs": [
    {
     "data": {
      "text/plain": [
       "array([[1., 0., 0., 0., 0.],\n",
       "       [0., 1., 0., 0., 0.],\n",
       "       [0., 0., 1., 0., 0.],\n",
       "       [0., 0., 0., 1., 0.],\n",
       "       [0., 0., 0., 0., 1.]])"
      ]
     },
     "execution_count": 33,
     "metadata": {},
     "output_type": "execute_result"
    }
   ],
   "source": []
  },
  {
   "cell_type": "code",
   "execution_count": null,
   "id": "2f30c6f6-e1da-475a-a04d-529673f28c22",
   "metadata": {},
   "outputs": [],
   "source": []
  }
 ],
 "metadata": {
  "kernelspec": {
   "display_name": "Python 3 (ipykernel)",
   "language": "python",
   "name": "python3"
  },
  "language_info": {
   "codemirror_mode": {
    "name": "ipython",
    "version": 3
   },
   "file_extension": ".py",
   "mimetype": "text/x-python",
   "name": "python",
   "nbconvert_exporter": "python",
   "pygments_lexer": "ipython3",
   "version": "3.10.8"
  }
 },
 "nbformat": 4,
 "nbformat_minor": 5
}
