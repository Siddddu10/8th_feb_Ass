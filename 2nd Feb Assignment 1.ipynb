{
 "cells": [
  {
   "cell_type": "code",
   "execution_count": 2,
   "id": "3eb99722-ce97-4e15-8c9b-eb575fedf4a9",
   "metadata": {},
   "outputs": [
    {
     "data": {
      "text/plain": [
       "\"Q1. Explain with an example each when to use a for loop and a while loop.\\ni)For loop is generally used when you know the number of iterations you need to perform before the loop begins. \\nIt is a great way to perform repetitive tasks on a sequence of items such as lists, tuples, and arrays. \\nHere's an example:\\n\\nIterate through a list of numbers using a for loop\\nnumbers = [1, 2, 3, 4, 5]\\nfor num in numbers:\\n    print(num)\\nOutput:\\n1\\n2\\n3\\n4\\n5\\nIn this example, the for loop iterates through each number in the numbers list, and prints it to the console.\\n\\nii)While loop is generally used when you don't know how many times you need to iterate beforehand. It is often used when you want to repeat an action until a specific condition is met. Here's an example:\\n\\npython\\nCopy code\\n# use a while loop to countdown from 5 to 1\\ncount = 5\\nwhile count > 0:\\n    print(count)\\n    count -= 1\\nOutput:\\n5\\n4\\n3\\n2\\n1\\nIn this example, the while loop repeats the print statement until the count variable is equal to zero\""
      ]
     },
     "execution_count": 2,
     "metadata": {},
     "output_type": "execute_result"
    }
   ],
   "source": [
    "'''Q1) Explain with an example each when to use a for loop and a while loop.\n",
    "Ans-i)For loop is generally used when you know the number of iterations you need to perform before the loop begins. \n",
    "It is a great way to perform repetitive tasks on a sequence of items such as lists, tuples, and arrays. \n",
    "Here's an example:\n",
    "\n",
    "Iterate through a list of numbers using a for loop\n",
    "numbers = [1, 2, 3, 4, 5]\n",
    "for num in numbers:\n",
    "    print(num)\n",
    "Output:\n",
    "1\n",
    "2\n",
    "3\n",
    "4\n",
    "5\n",
    "In this example, the for loop iterates through each number in the numbers list, and prints it to the console.\n",
    "\n",
    "ii)While loop is generally used when you don't know how many times you need to iterate beforehand. It is often used when you want to repeat an action until a specific condition is met. Here's an example:\n",
    "\n",
    "python\n",
    "Copy code\n",
    "# use a while loop to countdown from 5 to 1\n",
    "count = 5\n",
    "while count > 0:\n",
    "    print(count)\n",
    "    count -= 1\n",
    "Output:\n",
    "5\n",
    "4\n",
    "3\n",
    "2\n",
    "1\n",
    "In this example, the while loop repeats the print statement until the count variable is equal to zero'''\n",
    "\n"
   ]
  },
  {
   "cell_type": "code",
   "execution_count": 9,
   "id": "d30a1815-0b8d-4210-a49e-b0c9740c37d3",
   "metadata": {},
   "outputs": [
    {
     "name": "stdout",
     "output_type": "stream",
     "text": [
      "The sum is 55\n",
      "The product is 3628800\n",
      "Sum of first 10 natural numbers: 55\n",
      "Product of first 10 natural numbers: 3628800\n"
     ]
    }
   ],
   "source": [
    "'''Q2) Write a python program to print the sum and product of the first 10 natural numbers using for\n",
    "and while loop.'''\n",
    "#Using For Loop#\n",
    "sum=0\n",
    "product=1\n",
    "a=[1,2,3,4,5,6,7,8,9,10]\n",
    "for i in a:\n",
    "    sum= sum+i\n",
    "    product=product*i\n",
    "print(\"The sum is\",sum)\n",
    "print(\"The product is\",product)\n",
    "\n",
    "#using while loop#\n",
    "count = 1\n",
    "sum = 0\n",
    "product = 1\n",
    "while count <= 10:\n",
    "    sum += count\n",
    "    product *= count\n",
    "    count += 1\n",
    "print(\"Sum of first 10 natural numbers:\", sum)\n",
    "print(\"Product of first 10 natural numbers:\", product)\n"
   ]
  },
  {
   "cell_type": "code",
   "execution_count": 35,
   "id": "16deb4ff-9222-43a4-8010-a3d1ca5d9c73",
   "metadata": {},
   "outputs": [
    {
     "name": "stdin",
     "output_type": "stream",
     "text": [
      "Enter the number of units of electricity consumed in a month:  310\n"
     ]
    },
    {
     "name": "stdout",
     "output_type": "stream",
     "text": [
      "The electricity bill for this month is Rs. 2250.0\n"
     ]
    }
   ],
   "source": [
    "'''Q3)Create a python program to compute the electricity bill for a household.The per-unit charges in rupees are as follows: For the first 100 units, the user will be charged Rs. 4.5 per\n",
    "unit, for the next 100 units, the user will be charged Rs. 6 per unit, and for the next 100 units, the user will\n",
    "be charged Rs. 10 per unit, After 300 units and above the user will be charged Rs. 20 per unit.\n",
    "You are required to take the units of electricity consumed in a month from the user as input.\n",
    "Your program must pass this test case: when the unit of electricity consumed by the user in a month is\n",
    "310, the total electricity bill should be 2250.'''\n",
    "#Code\n",
    "# get input from user\n",
    "units = int(input(\"Enter the number of units of electricity consumed in a month: \"))\n",
    "if units <= 100:\n",
    "    bill = units * 4.5\n",
    "elif units <= 200:\n",
    "    bill = (100 * 4.5) + ((units - 100) * 6)\n",
    "elif units <= 300:\n",
    "    bill = (100 * 4.5) + (100 * 6) + ((units - 200) * 10)\n",
    "else:\n",
    "    bill = (100 * 4.5) + (100 * 6) + (100 * 10) + ((units - 300) * 20)\n",
    "\n",
    "# print the result\n",
    "print(\"The electricity bill for this month is Rs.\", bill)\n",
    "\n"
   ]
  },
  {
   "cell_type": "code",
   "execution_count": 58,
   "id": "fac68ac1-2183-4c0f-886c-caf30a136cf1",
   "metadata": {},
   "outputs": [
    {
     "name": "stdout",
     "output_type": "stream",
     "text": [
      "The numbers are [2, 4, 5, 6, 8, 10, 12, 14, 15, 16, 18, 20, 22, 24, 25, 26, 28, 30, 32, 34, 35, 36, 38, 40, 42, 44, 45, 46, 48, 50, 52, 54, 55, 56, 58, 60, 62, 64, 65, 66, 68, 70, 72, 74, 75, 76, 78, 80, 82, 84, 85, 86, 88, 90, 92, 94, 95, 96, 98, 100]\n",
      "the numbers are [2, 4, 5, 6, 8, 10, 12, 14, 15, 16, 18, 20, 22, 24, 25, 26, 28, 30, 32, 34, 35, 36, 38, 40, 42, 44, 45, 46, 48, 50, 52, 54, 55, 56, 58, 60, 62, 64, 65, 66, 68, 70, 72, 74, 75, 76, 78, 80, 82, 84, 85, 86, 88, 90, 92, 94, 95, 96, 98, 100]\n"
     ]
    }
   ],
   "source": [
    "'''Q4)Create a list of numbers from 1 to 100. Use for loop and while loop to calculate the cube of each\n",
    "number and if the cube of that number is divisible by 4 or 5 then append that number in a list and print\n",
    "that list.'''\n",
    "#code\n",
    "#By For Loop\n",
    "l1=[]\n",
    "for i in range(1,101,1):\n",
    "    cube=i**3\n",
    "    if cube%4==0 or cube %5==0:\n",
    "        l1.append(i)\n",
    "print(\"The numbers are\",l1)\n",
    "\n",
    "#By While loop\n",
    "l2 = []\n",
    "num = 1\n",
    "while num <= 100:\n",
    "    cube = num ** 3\n",
    "    if cube % 4 == 0 or cube % 5 == 0:\n",
    "        l2.append(num)\n",
    "    num += 1\n",
    "print(\"the numbers are\", l2)\n",
    "\n",
    "\n",
    "\n"
   ]
  },
  {
   "cell_type": "code",
   "execution_count": 1,
   "id": "f0613f79-f03a-4dda-82f5-9be3c26b9486",
   "metadata": {},
   "outputs": [
    {
     "name": "stdout",
     "output_type": "stream",
     "text": [
      "Number of vowels in the string (using for loop): 12\n"
     ]
    }
   ],
   "source": [
    "'''Q5)Write a program to filter count vowels in the below-given string.\n",
    "string = \"I want to become a data scientist\"'''\n",
    "#code\n",
    "string = \"I want to become a data scientist\"\n",
    "vowels = \"aeiouAEIOU\"\n",
    "\n",
    "count_vowels = 0\n",
    "for char in string:\n",
    "    if char in vowels:\n",
    "        count_vowels += 1\n",
    "print(\"Number of vowels in the string (using for loop):\", count_vowels)\n",
    "\n",
    "\n"
   ]
  },
  {
   "cell_type": "code",
   "execution_count": null,
   "id": "e04b4c63-293a-4c70-864f-7d09b065eddd",
   "metadata": {},
   "outputs": [],
   "source": []
  }
 ],
 "metadata": {
  "kernelspec": {
   "display_name": "Python 3 (ipykernel)",
   "language": "python",
   "name": "python3"
  },
  "language_info": {
   "codemirror_mode": {
    "name": "ipython",
    "version": 3
   },
   "file_extension": ".py",
   "mimetype": "text/x-python",
   "name": "python",
   "nbconvert_exporter": "python",
   "pygments_lexer": "ipython3",
   "version": "3.10.8"
  }
 },
 "nbformat": 4,
 "nbformat_minor": 5
}
