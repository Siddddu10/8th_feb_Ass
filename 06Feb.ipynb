{
 "cells": [
  {
   "cell_type": "code",
   "execution_count": 1,
   "id": "2c6e2cf0-e7ff-4a90-851a-86552eb810a5",
   "metadata": {},
   "outputs": [
    {
     "ename": "SyntaxError",
     "evalue": "invalid syntax (1315665788.py, line 1)",
     "output_type": "error",
     "traceback": [
      "\u001b[0;36m  Cell \u001b[0;32mIn[1], line 1\u001b[0;36m\u001b[0m\n\u001b[0;31m    Q1. Create a function which will take a list as an argument and return the product of all the numbers\u001b[0m\n\u001b[0m               ^\u001b[0m\n\u001b[0;31mSyntaxError\u001b[0m\u001b[0;31m:\u001b[0m invalid syntax\n"
     ]
    }
   ],
   "source": [
    "'''Q1. Create a function which will take a list as an argument and return the product of all the numbers\n",
    "after creating a flat list.\n",
    "Use the below-given list as an argument for your function.\n",
    "list1 = [1,2,3,4, [44,55,66, True], False, (34,56,78,89,34), {1,2,3,3,2,1}, {1:34, \"key2\": [55, 67, 78, 89], 4: (45,\n",
    "22, 61, 34)}, [56, 'data science'], 'Machine Learning']\n",
    "Note: you must extract numeric keys and values of the dictionary also.\n",
    "\n",
    "Ans-'''\n",
    "#code\n",
    "list1 = [1,2,3,4, [44,55,66, True], False, (34,56,78,89,34), {1,2,3,3,2,1}, {1:34, \"key2\": [55, 67, 78, 89], 4: (45, 22, 61, 34)}, [56, 'data science'], 'Machine Learning']\n",
    "flat_int_list = []\n",
    "def flatten(lst):\n",
    "    for item in lst:\n",
    "        if isinstance(item, list):\n",
    "            flatten(item)\n",
    "        elif isinstance(item, tuple):\n",
    "            flatten(item)\n",
    "        elif isinstance(item, set):\n",
    "            flatten(item)\n",
    "        elif isinstance(item, dict):\n",
    "            flatten(item.values())\n",
    "        elif isinstance(item, int):\n",
    "            flat_int_list.append(item**2)\n",
    "        else:\n",
    "            pass\n",
    "flatten(list1)\n",
    "print(flat_int_list)\n",
    "\n",
    "'''Q2. Write a python program for encrypting a message sent to you by your friend. The logic of\n",
    "encryption should be such that, for a the output should be z. For b, the output should be y. \n",
    "For c, the output should be x respectively. Also, the whitespace should be replaced with a \n",
    "dollar sign. Keep the punctuation marks unchanged.\n",
    "Input Sentence: I want to become a Data Scientist.\n",
    "Encrypt the above input sentence using the program you just created.\n",
    "Note: Convert the given input sentence into lowercase before encrypting. The final output \n",
    "should be lowercase.\n",
    "\n",
    "Ans-'''\n",
    "#code\n",
    "    "
   ]
  },
  {
   "cell_type": "code",
   "execution_count": 81,
   "id": "b4731a58-5643-49b6-81dc-bd4127a706d0",
   "metadata": {},
   "outputs": [
    {
     "name": "stdout",
     "output_type": "stream",
     "text": [
      "[1, 4, 9, 16, 0]\n"
     ]
    }
   ],
   "source": [
    "New_list=[]\n",
    "list1 = [1,2,3,4, [44,55,66, True], False, (34,56,78,89,34), {1,2,3,3,2,1}, {1:34, \"key2\": [55, 67, 78, 89], 4: (45,22, 61, 34)}, [56, 'data science'], 'Machine Learning']\n",
    "def Square(x):\n",
    "    for i in x:\n",
    "        if isinstance(i,int):\n",
    "            New_list.append(i**2)\n",
    "        elif isinstance(i, dict):\n",
    "            flatten(list(i.values()))\n",
    "        \n",
    "Square(list1) \n",
    "print(New_list)"
   ]
  },
  {
   "cell_type": "code",
   "execution_count": 45,
   "id": "1482e437-cf23-4c20-9fc3-2b879a3a7fae",
   "metadata": {},
   "outputs": [],
   "source": [
    "Square(list1)"
   ]
  },
  {
   "cell_type": "code",
   "execution_count": 80,
   "id": "0e70df2e-544f-4e11-a784-9435345c302c",
   "metadata": {},
   "outputs": [
    {
     "name": "stdout",
     "output_type": "stream",
     "text": [
      "[1, 4, 9, 16, 1936, 3025, 4356, 1, 0, 1156, 3136, 6084, 7921, 1156, 1, 4, 9, 1156, 3025, 4489, 6084, 7921, 2025, 484, 3721, 1156, 3136]\n"
     ]
    }
   ],
   "source": []
  },
  {
   "cell_type": "code",
   "execution_count": 78,
   "id": "67da1aba-1f00-431c-be48-7f132e084ca2",
   "metadata": {},
   "outputs": [],
   "source": [
    "list1 = [1,2,3,4, [44,55,66, True], False, (34,56,78,89,34), {1,2,3,3,2,1}, {1:34, \"key2\": [55, 67, 78, 89], 4: (45, 22, 61, 34)}, [56, 'data science'], 'Machine Learning']\n",
    "\n",
    "flat_int_list = []\n",
    "\n",
    "def flatten(lst):\n",
    "    for item in lst:\n",
    "        if isinstance(item, list):\n",
    "            flatten(item)\n",
    "        elif isinstance(item, tuple):\n",
    "            flatten(item)\n",
    "        elif isinstance(item, int):\n",
    "            flat_int_list.append(item)\n",
    "        else:\n",
    "            pass"
   ]
  },
  {
   "cell_type": "code",
   "execution_count": 77,
   "id": "897f0e9c-a421-44b9-9277-d359d6d4e8fb",
   "metadata": {},
   "outputs": [
    {
     "name": "stdout",
     "output_type": "stream",
     "text": [
      "[1, 2, 3, 4, 44, 55, 66, True, False, 34, 56, 78, 89, 34, 56]\n"
     ]
    }
   ],
   "source": [
    "flatten(list1)\n",
    "print(flat_int_list)\n"
   ]
  },
  {
   "cell_type": "code",
   "execution_count": null,
   "id": "e49611f6-61c4-4aa8-a728-3ebd4a415eef",
   "metadata": {},
   "outputs": [],
   "source": []
  },
  {
   "cell_type": "code",
   "execution_count": 86,
   "id": "9db68409-2d88-48e5-b9e4-96c2bb0e5606",
   "metadata": {},
   "outputs": [
    {
     "name": "stdout",
     "output_type": "stream",
     "text": [
      "$hxrvmgrhg.\n"
     ]
    }
   ],
   "source": [
    "def encrypt_message(message):\n",
    "    encrypted = \"\"\n",
    "    for char in message.lower():\n",
    "        if char.isalpha():\n",
    "            encrypted += chr(ord('a') + (ord('z') - ord(char)))\n",
    "        elif char.isspace():\n",
    "            encrypted = '$'\n",
    "        else:\n",
    "            encrypted += char\n",
    "    return encrypted.lower()\n",
    "\n",
    "input_sentence = \"I want to become a Data Scientist.\"\n",
    "encrypted_sentence = encrypt_message(input_sentence)\n",
    "print(encrypted_sentence)"
   ]
  },
  {
   "cell_type": "code",
   "execution_count": null,
   "id": "c944cbca-5598-497c-8c54-82eea7498ecd",
   "metadata": {},
   "outputs": [],
   "source": []
  }
 ],
 "metadata": {
  "kernelspec": {
   "display_name": "Python 3 (ipykernel)",
   "language": "python",
   "name": "python3"
  },
  "language_info": {
   "codemirror_mode": {
    "name": "ipython",
    "version": 3
   },
   "file_extension": ".py",
   "mimetype": "text/x-python",
   "name": "python",
   "nbconvert_exporter": "python",
   "pygments_lexer": "ipython3",
   "version": "3.10.8"
  }
 },
 "nbformat": 4,
 "nbformat_minor": 5
}
