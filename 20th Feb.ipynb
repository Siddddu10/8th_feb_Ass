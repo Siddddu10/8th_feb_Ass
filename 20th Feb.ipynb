{
 "cells": [
  {
   "cell_type": "code",
   "execution_count": null,
   "id": "96201150-8124-4f52-82a8-249c9a43502a",
   "metadata": {},
   "outputs": [],
   "source": [
    "'''\n",
    "Q1.Explain GET and POST methods.\n",
    "\n",
    "Ans-The GET and POST methods are two common HTTP request methods used in web applications to \n",
    "interact with servers and retrieve or send data.\n",
    "\n",
    "The GET method is used to retrieve data from a server. When a GET request is sent to a server, \n",
    "the server retrieves the requested data and sends it back to the client as part of the response.\n",
    "The data is typically included in the URL of the request as query parameters, and can be\n",
    "accessed by the server to generate a response. The GET method is typically used for reading \n",
    "data, such as retrieving a webpage, and is considered a safe and idempotent operation, meaning\n",
    "it should not modify server state.\n",
    "\n",
    "The POST method, on the other hand, is used to send data to a server for processing. When a\n",
    "POST request is sent to a server, the server processes the data in the request body and sends\n",
    "back a response. Unlike GET requests, POST requests do not include data in the URL, but rather \n",
    "in the request body, which can contain any type of data, such as form data, JSON, or binary data.\n",
    "The POST method is typically used for creating, updating, or deleting data on the server, \n",
    "and is not considered a safe or idempotent operation, meaning it may modify server state.\n",
    "\n",
    "Q2.Why is request used in Flask?\n",
    "\n",
    "Ans-In Flask, the request object is used to access the data submitted by a client to the server \n",
    "in an HTTP request. When a client sends a request to a Flask application, the request object is \n",
    "automatically created and populated with data from the request, such as query parameters, form \n",
    "data, and HTTP headers\n",
    "\n",
    "Q3.Why is redirect() used in Flask?\n",
    "\n",
    "Ans-In Flask, the redirect() function is used to redirect the client to a different URL. \n",
    "This function is often used in web applications to redirect the user to a different page after\n",
    "completing an action, such as submitting a form or logging in.\n",
    "\n",
    "Q4.What are templates in Flask? Why is the render_template() function used?\n",
    "\n",
    "Ans- \n",
    "\n",
    "Q5.Create a simple API. Use Postman to test it. Attach the screenshot of the output in the \n",
    "Jupyter Notebook.\n",
    "'''"
   ]
  }
 ],
 "metadata": {
  "kernelspec": {
   "display_name": "Python 3 (ipykernel)",
   "language": "python",
   "name": "python3"
  },
  "language_info": {
   "codemirror_mode": {
    "name": "ipython",
    "version": 3
   },
   "file_extension": ".py",
   "mimetype": "text/x-python",
   "name": "python",
   "nbconvert_exporter": "python",
   "pygments_lexer": "ipython3",
   "version": "3.10.8"
  }
 },
 "nbformat": 4,
 "nbformat_minor": 5
}
