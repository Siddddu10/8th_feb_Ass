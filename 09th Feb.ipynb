{
 "cells": [
  {
   "cell_type": "code",
   "execution_count": 2,
   "id": "5f5f2fe0-6b4a-46fb-b156-3cee893851af",
   "metadata": {},
   "outputs": [
    {
     "data": {
      "text/plain": [
       "'Q1, Create a vehicle class with an init method having instance variables as name_of_vehicle, max_speed\\nand average_of_vehicle.\\nQ2. Create a child class car from the vehicle class created in Que 1, which will inherit the vehicle class.\\nCreate a method named seating_capacity which takes capacity as an argument and returns the name of\\nthe vehicle and its seating capacity.\\nQ3. What is multiple inheritance? Write a python code to demonstrate multiple inheritance.\\nQ4. What are getter and setter in python? Create a class and create a getter and a setter method in this\\nclass.\\nQ5.What is method overriding in python? Write a python code to demonstrate method overriding.'"
      ]
     },
     "execution_count": 2,
     "metadata": {},
     "output_type": "execute_result"
    }
   ],
   "source": [
    "'''Q1, Create a vehicle class with an init method having instance variables as name_of_vehicle,\n",
    "max_speed and average_of_vehicle.\n",
    "Ans-'''\n",
    "#Code\n",
    "class vehicle:\n",
    "    def __init__(self,name_of_vehicle,max_speed,average_of_vehicle):\n",
    "        self.name_of_vehicle=name_of_vehicle\n",
    "        self.max_speed=max_speed\n",
    "        seef.average_of_vehicle=average_of_vehicle\n",
    "        \n",
    "'''Q2. Create a child class car from the vehicle class created in Que 1, which will inherit the\n",
    "vehicle class.Create a method named seating_capacity which takes capacity as an argument and \n",
    "returns the name of the vehicle and its seating capacity.\n",
    "Ans'''\n",
    "#Code\n",
    "class vehicle:\n",
    "    def __init__(self,name_of_vehicle,max_speed,average_of_vehicle):\n",
    "        self.name_of_vehicle=name_of_vehicle\n",
    "        self.max_speed=max_speed\n",
    "        self.average_of_vehicle=average_of_vehicle\n",
    "class car(vehicle):\n",
    "    def seating_capacity(self,capacity):\n",
    "        return f\"The name of the vehicle is {self.name_of_vehicle} and seating capacity is capacity\"\n",
    "#Object\n",
    "Audi=car('Audi',200,'30')\n",
    "#call\n",
    "car=Audi.seating_capacity(4)\n",
    "print(car)\n",
    "'''Q3. What is multiple inheritance? Write a python code to demonstrate multiple inheritance.\n",
    "\n",
    "Ans-\n",
    "Multiple inheritance is a feature in object-oriented programming where a class can inherit\n",
    "attributes and methods from multiple parent classes. This means that a child class can inherit\n",
    "characteristics from multiple parent classes simultaneously.\n",
    "Here's an example that demonstrates multiple inheritance in Python:'''\n",
    "#Code\n",
    "class class1:\n",
    "    def test(self):\n",
    "        return 'one'\n",
    "class class2:\n",
    "    def test1(self):\n",
    "        return 'two'\n",
    "class class3(class1,class2):\n",
    "    def test2(self):\n",
    "        return 'three'\n",
    "#Object    \n",
    "obj=class3()\n",
    "#Call\n",
    "obj.test2()\n",
    "    \n",
    "'''Q4. What are getter and setter in python? Create a class and create a getter and a setter \n",
    "method in this class.\n",
    "\n",
    "Ans-In Python, getters and setters are methods used to retrieve and modify the values of class\n",
    "attributes respectively. They provide a way to control access to class variables and add an \n",
    "additional layer of abstraction.\n",
    "Here's an example of a class with a getter and a setter method:'''\n",
    "#Code\n",
    "class Person:\n",
    "    def __init__(self, name):\n",
    "        self._name = name  \n",
    "    # Getter method\n",
    "    def get_name(self):\n",
    "        return self._name\n",
    "    # Setter method\n",
    "    def set_name(self, new_name):\n",
    "        self._name = new_name\n",
    "'''Q5.What is method overriding in python? Write a python code to demonstrate method overriding.\n",
    "\n",
    "Ans-\n",
    "Method overriding is a concept in object-oriented programming where a subclass provides its own\n",
    "implementation of a method that is already defined in its superclass. The overridden method in\n",
    "the subclass has the same name and parameters as the method in the superclass but provides a \n",
    "different implementation.\n",
    "Here's an example that demonstrates method overriding in Python:'''\n",
    "#Code\n",
    "class Animal:\n",
    "    def make_sound(self):\n",
    "        print(\"The animal makes a generic sound.\")\n",
    "\n",
    "class Dog(Animal):\n",
    "    def make_sound(self):\n",
    "        print(\"The dog barks.\")\n",
    "class Cat(Animal):\n",
    "    def make_sound(self):\n",
    "        print(\"The cat meows.\")\n",
    "\n",
    "#Object        \n",
    "animal = Animal()\n",
    "dog = Dog()\n",
    "cat = Cat()\n",
    "#Call\n",
    "animal.make_sound()  \n",
    "dog.make_sound()\n",
    "cat.make_sound()\n",
    "\n",
    "\n"
   ]
  },
  {
   "cell_type": "code",
   "execution_count": 25,
   "id": "f8067be9-5cca-454b-a1d6-c1521e0ccff3",
   "metadata": {},
   "outputs": [],
   "source": [
    "class vehicle:\n",
    "    def __init__(self,name_of_vehicle,max_speed,average_of_vehicle):\n",
    "        self.name_of_vehicle=name_of_vehicle\n",
    "        self.max_speed=max_speed\n",
    "        self.average_of_vehicle=average_of_vehicle\n",
    "class car(vehicle):\n",
    "    def seating_capacity(self,capacity):\n",
    "        return f\"The name of the vehicle is {self.name_of_vehicle} and seating capacity is capacity\"\n",
    "        "
   ]
  },
  {
   "cell_type": "code",
   "execution_count": 28,
   "id": "0c2e0d78-7aae-4419-b488-659bbf4adc30",
   "metadata": {},
   "outputs": [],
   "source": [
    "Audi=car('Audi',200,'30')"
   ]
  },
  {
   "cell_type": "code",
   "execution_count": 31,
   "id": "26d86179-ff97-4ef0-b8eb-affa0efceaf1",
   "metadata": {},
   "outputs": [
    {
     "name": "stdout",
     "output_type": "stream",
     "text": [
      "The name of the vehicle is Audi and seating capacity is capacity\n"
     ]
    }
   ],
   "source": [
    "car=Audi.seating_capacity(4)\n",
    "print(car)"
   ]
  },
  {
   "cell_type": "code",
   "execution_count": 34,
   "id": "ada7c449-2956-42e6-89b3-db26f9592fff",
   "metadata": {},
   "outputs": [
    {
     "data": {
      "text/plain": [
       "'three'"
      ]
     },
     "execution_count": 34,
     "metadata": {},
     "output_type": "execute_result"
    }
   ],
   "source": []
  },
  {
   "cell_type": "code",
   "execution_count": null,
   "id": "e6ff89a6-9b68-45ff-b6d1-d80d0475f2ea",
   "metadata": {},
   "outputs": [],
   "source": []
  }
 ],
 "metadata": {
  "kernelspec": {
   "display_name": "Python 3 (ipykernel)",
   "language": "python",
   "name": "python3"
  },
  "language_info": {
   "codemirror_mode": {
    "name": "ipython",
    "version": 3
   },
   "file_extension": ".py",
   "mimetype": "text/x-python",
   "name": "python",
   "nbconvert_exporter": "python",
   "pygments_lexer": "ipython3",
   "version": "3.10.8"
  }
 },
 "nbformat": 4,
 "nbformat_minor": 5
}
