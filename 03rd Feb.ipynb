{
 "cells": [
  {
   "cell_type": "code",
   "execution_count": 8,
   "id": "70498709-4fdf-48d0-9a9c-db1ef4570298",
   "metadata": {
    "tags": []
   },
   "outputs": [
    {
     "ename": "SyntaxError",
     "evalue": "unterminated string literal (detected at line 13) (2251803098.py, line 13)",
     "output_type": "error",
     "traceback": [
      "\u001b[0;36m  Cell \u001b[0;32mIn[8], line 13\u001b[0;36m\u001b[0m\n\u001b[0;31m    '''Q6. Write a python program to print the first 10 Fibonacci numbers using a while loop.''''\u001b[0m\n\u001b[0m                                                                                                ^\u001b[0m\n\u001b[0;31mSyntaxError\u001b[0m\u001b[0;31m:\u001b[0m unterminated string literal (detected at line 13)\n"
     ]
    }
   ],
   "source": [
    "'''Q1. Which keyword is used to create a function? Create a function to return a list of odd \n",
    "numbers in the range of 1 to 25.\n",
    "\n",
    "Ans-Def() heyword is used to create function.\n",
    "def odd_number():\n",
    "    oddnumber=[]\n",
    "    for i in range(1,26):\n",
    "        if i%2!=0:\n",
    "            oddnumber.append(i)\n",
    "    return oddnumber\n",
    "result =odd_number()\n",
    "print(result)\n",
    "'''\n",
    "'''Q2. Why *args and **kwargs is used in some functions? Create a function each for *args and **kwargs\n",
    "to demonstrate their use.\n",
    "\n",
    "Ans-In Python, *args and **kwargs are special syntax that can be used in function definitions \n",
    "to accept a variable number of arguments.\n",
    "\n",
    "*args is used to pass a variable number of non-keyworded arguments to a function. These \n",
    "arguments are passed as a tuple and can be accessed in the function using the args variable \n",
    "name.\n",
    "\n",
    "**kwargs is used to pass a variable number of keyword arguments to a function. These arguments\n",
    "are passed as a dictionary and can be accessed in the function using the kwargs variable name.\n",
    "\n",
    "Here's an example of a function that uses *args to calculate the sum of a variable number of \n",
    "integers:\n",
    "def sum_integers(*args):\n",
    "    total = 0\n",
    "    for num in args:\n",
    "        if isinstance(num, int):\n",
    "            total += num\n",
    "    return total\n",
    "    \n",
    "def create_dict(**kwargs):\n",
    "    my_dict = {}\n",
    "    for key, value in kwargs.items():\n",
    "        my_dict[key] = value\n",
    "    return my_dict\n",
    "'''\n",
    "\n",
    "'''Q3. What is an iterator in python? Name the method used to initialise the iterator object and the method\n",
    "used for iteration. Use these methods to print the first five elements of the given list \n",
    "[2, 4, 6, 8, 10, 12, 14,16, 18, 20].\n",
    "\n",
    "Ans-In Python, an iterator is an object that allows us to traverse through a sequence of values\n",
    "one at a time. The iterator is implemented using two methods - __iter__() and __next__() - \n",
    "which define how the iterator should behave.\n",
    "\n",
    "The __iter__() method is used to initialize the iterator object. It returns the iterator object\n",
    "itself and is called when an iterator is created for an object.\n",
    "\n",
    "The __next__() method is used for iteration and returns the next value in the sequence. When\n",
    "there are no more values to return, it raises the StopIteration exception to signal the end of \n",
    "the sequence.\n",
    "my_list = [2, 4, 6, 8, 10, 12, 14, 16, 18, 20]\n",
    "\n",
    "# Create an iterator object for the list\n",
    "my_iterator = iter(my_list)\n",
    "\n",
    "# Print the first five elements using next()\n",
    "print(next(my_iterator))\n",
    "print(next(my_iterator))\n",
    "print(next(my_iterator))\n",
    "print(next(my_iterator))\n",
    "print(next(my_iterator)\n",
    "'''\n",
    "'''Q4. What is a generator function in python? Why yield keyword is used? Give an example of a \n",
    "generator function.\n",
    "\n",
    "Ans-In Python, a generator function is a special type of function that generates an iterator, \n",
    "which allows you to iterate over a sequence of values. Generator functions are defined like\n",
    "regular functions, but instead of returning a value using the return keyword, they use the \n",
    "yield keyword.\n",
    "\n",
    "The yield keyword is used to return a value from the generator function and temporarily suspend \n",
    "the execution of the function. When the next value is requested from the iterator, execution of\n",
    "the generator function resumes from where it left off.\n",
    "\n",
    "Here's an example of a generator function in Python that generates an infinite sequence of \n",
    "Fibonacci numbers:\n",
    "def fibonacci():\n",
    "    a, b = 0, 1\n",
    "    while True:\n",
    "        yield a\n",
    "        a, b = b, a + b\n",
    "'''\n",
    "Q5. Create a generator function for prime numbers less than 1000. Use the next() method to print the\n",
    "first 20 prime numbers.\n",
    "\n",
    "'''Q6. Write a python program to print the first 10 Fibonacci numbers using a while loop.''''\n",
    "Ans-\n",
    "#code\n",
    "a,b=0,1\n",
    "counter=0\n",
    "while counter <10:\n",
    "    c=a+b\n",
    "    a=b\n",
    "    b=c\n",
    "    print(a)\n",
    "    counter+=1\n",
    "    \n",
    "'''Q7. Write a List Comprehension to iterate through the given string: ‘pwskills’.\n",
    "Expected output: ['p', 'w', 's', 'k', 'i', 'l', 'l', 's']'''\n",
    "Ans-\n",
    "#code\n",
    "l='pwskills'\n",
    "list(l)\n",
    "\n",
    "'''Q8. Write a python program to check whether a given number is Palindrome or not using a while\n",
    "loop.'''\n",
    "Ans-\n",
    "#code\n",
    "num=int(input(\"Enter a number\"))\n",
    "num_str=str(num)\n",
    "rev=num_str[::-1]\n",
    "if num_str==rev:\n",
    "    print(\"Its a palindrome\")\n",
    "else:\n",
    "    print(\"Its not a palindrome\")\n",
    "'''Q9. Write a code to print odd numbers from 1 to 100 using list comprehension.\n",
    "Note: Use a list comprehension to create a list from 1 to 100 and use another List comprehension\n",
    "to filter out odd numbers.'''\n",
    "Ans-\n",
    "#code\n",
    "l=range(1,101)\n",
    "odd_num=[i for i in l if i%2!=0]\n",
    "print(odd_num)"
   ]
  },
  {
   "cell_type": "code",
   "execution_count": 23,
   "id": "55440806-75b9-40ed-bf0c-531038ed3e18",
   "metadata": {},
   "outputs": [
    {
     "name": "stdout",
     "output_type": "stream",
     "text": [
      "[1, 3, 5, 7, 9, 11, 13, 15, 17, 19, 21, 23, 25]\n"
     ]
    }
   ],
   "source": []
  },
  {
   "cell_type": "code",
   "execution_count": 22,
   "id": "6c6c3400-3b96-418f-bba0-f12d6115d10b",
   "metadata": {},
   "outputs": [
    {
     "name": "stdout",
     "output_type": "stream",
     "text": [
      "[1, 3, 5, 7, 9, 11, 13, 15, 17, 19, 21, 23, 25]\n"
     ]
    }
   ],
   "source": []
  },
  {
   "cell_type": "code",
   "execution_count": null,
   "id": "5d508047-c103-4559-ac37-d7f1e368a5f8",
   "metadata": {},
   "outputs": [],
   "source": []
  }
 ],
 "metadata": {
  "kernelspec": {
   "display_name": "Python 3 (ipykernel)",
   "language": "python",
   "name": "python3"
  },
  "language_info": {
   "codemirror_mode": {
    "name": "ipython",
    "version": 3
   },
   "file_extension": ".py",
   "mimetype": "text/x-python",
   "name": "python",
   "nbconvert_exporter": "python",
   "pygments_lexer": "ipython3",
   "version": "3.10.8"
  }
 },
 "nbformat": 4,
 "nbformat_minor": 5
}
