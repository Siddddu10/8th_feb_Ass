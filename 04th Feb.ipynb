{
 "cells": [
  {
   "cell_type": "code",
   "execution_count": 1,
   "id": "4f31eb5c-7846-4cc4-9ffa-1b2ac07c896b",
   "metadata": {},
   "outputs": [
    {
     "ename": "SyntaxError",
     "evalue": "invalid syntax (1692615891.py, line 8)",
     "output_type": "error",
     "traceback": [
      "\u001b[0;36m  Cell \u001b[0;32mIn[1], line 8\u001b[0;36m\u001b[0m\n\u001b[0;31m    Q2. Write a Python Program to find the squares of all the numbers in the given list of integers using\u001b[0m\n\u001b[0m              ^\u001b[0m\n\u001b[0;31mSyntaxError\u001b[0m\u001b[0;31m:\u001b[0m invalid syntax\n"
     ]
    }
   ],
   "source": [
    "'''Q1. Create a python program to sort the given list of tuples based on integer value using a\n",
    "lambda function.\n",
    "[('Sachin Tendulkar', 34357), ('Ricky Ponting', 27483), ('Jack Kallis', 25534), ('Virat Kohli', 24936)]\n",
    "\n",
    "Ans-'''\n",
    "#Code\n",
    "my_list=[('Sachin Tendulkar', 34357), ('Ricky Ponting', 27483), ('Jack Kallis', 25534), ('Virat Kohli', 24936)]\n",
    "my_list.sort(key=lambda x:x[1])\n",
    "print(my_list)\n",
    "\n",
    "'''Q2. Write a Python Program to find the squares of all the numbers in the given list of \n",
    "integers using lambda and map functions.\n",
    "[1, 2, 3, 4, 5, 6, 7, 8, 9, 10]\n",
    "\n",
    "Ans-'''\n",
    "#Code\n",
    "l=[1, 2, 3, 4, 5, 6, 7, 8, 9, 10]\n",
    "list(map(lambda x:x**2,l))\n",
    "\n",
    "'''Q3. Write a python program to convert the given list of integers into a tuple of strings. \n",
    "Use map and lambda functions\n",
    "Given String: [1, 2, 3, 4, 5, 6, 7, 8, 9, 10]\n",
    "Expected output: ('1', '2', '3', '4', '5', '6', '7', '8', '9', '10')\n",
    "\n",
    "Ans-'''\n",
    "#Code\n",
    "l=[1, 2, 3, 4, 5, 6, 7, 8, 9, 10]\n",
    "tuple(map(lambda x:str(x),l))\n",
    "\n",
    "'''Q4. Write a python program using reduce function to compute the product of a list containing numbers\n",
    "from 1 to 25.\n",
    "\n",
    "Ans-'''\n",
    "#Code\n",
    "from functools import reduce\n",
    "l=range(1,3)\n",
    "reduce(lambda x,y:x*y,l)\n",
    "\n",
    "'''Q5. Write a python program to filter the numbers in a given list that are divisible by 2 and\n",
    "3 using the filter function.\n",
    "[2, 3, 6, 9, 27, 60, 90, 120, 55, 46]\n",
    "\n",
    "Ans-'''\n",
    "#Code\n",
    "l=[2, 3, 6, 9, 27, 60, 90, 120, 55, 46]\n",
    "list(filter(lambda x:x%2==0 or x%3==0,l))\n",
    "\n",
    "'''Q6. Write a python program to find palindromes in the given list of strings using lambda and filter\n",
    "function.\n",
    "['python', 'php', 'aba', 'radar', 'level']\n",
    "\n",
    "Ans-'''\n",
    "#Code\n"
   ]
  },
  {
   "cell_type": "code",
   "execution_count": 67,
   "id": "a50f0745-d497-49b5-ac72-fef82ea7ff89",
   "metadata": {},
   "outputs": [
    {
     "data": {
      "text/plain": [
       "['python', 'php', 'aba', 'radar', 'level']"
      ]
     },
     "execution_count": 67,
     "metadata": {},
     "output_type": "execute_result"
    }
   ],
   "source": [
    "l=['python', 'php', 'aba', 'radar', 'level']\n",
    "list(filter(lambda x:x[::-1],l))"
   ]
  },
  {
   "cell_type": "code",
   "execution_count": 69,
   "id": "116fd14f-e98c-4e0d-a2f8-82b00e9cef49",
   "metadata": {},
   "outputs": [],
   "source": [
    "def pal():\n",
    "    m=[]\n",
    "    l=['python', 'php', 'aba', 'radar', 'level']\n",
    "    for i in l:\n",
    "        if i==i[::-1]:\n",
    "            m.append(i)\n",
    "    return(m)\n",
    "            \n",
    "            \n"
   ]
  },
  {
   "cell_type": "code",
   "execution_count": null,
   "id": "30edd147-b336-4268-b4dc-12b5813073ff",
   "metadata": {},
   "outputs": [],
   "source": []
  }
 ],
 "metadata": {
  "kernelspec": {
   "display_name": "Python 3 (ipykernel)",
   "language": "python",
   "name": "python3"
  },
  "language_info": {
   "codemirror_mode": {
    "name": "ipython",
    "version": 3
   },
   "file_extension": ".py",
   "mimetype": "text/x-python",
   "name": "python",
   "nbconvert_exporter": "python",
   "pygments_lexer": "ipython3",
   "version": "3.10.8"
  }
 },
 "nbformat": 4,
 "nbformat_minor": 5
}
